{
 "cells": [
  {
   "cell_type": "code",
   "execution_count": null,
   "metadata": {},
   "outputs": [],
   "source": [
    "import csv\n",
    "\n",
    "\n",
    "def get_lists_series():\n",
    "\n",
    "    series = {}\n",
    "\n",
    "    with open('../geo_table.tsv','r') as tsvin:\n",
    "        tsvin = csv.reader(tsvin, delimiter='\\t')\n",
    "        indexes = []\n",
    "        for (i, row) in enumerate(tsvin):\n",
    "            print(i)\n",
    "            if i == 0:\n",
    "                indexes = [row.index(j) for j in ['Accession', 'Title', 'Taxonomy']]\n",
    "            else:\n",
    "                ser = row[indexes[2]].lower().split(\";\")\n",
    "                for s in ser:\n",
    "                    if s in {\"homo sapiens\", \"mus musculus\", \"rattus norvegicus\"}: \n",
    "                        series[row[indexes[0]]] = {'title': row[indexes[1]], 'taxonomy': s}\n",
    "                                                                \n",
    "    return series\n",
    "\n",
    "\n",
    "series = get_lists_series()"
   ]
  },
  {
   "cell_type": "code",
   "execution_count": 5,
   "metadata": {},
   "outputs": [
    {
     "data": {
      "text/plain": [
       "61937"
      ]
     },
     "execution_count": 5,
     "metadata": {},
     "output_type": "execute_result"
    }
   ],
   "source": [
    "len(series)"
   ]
  },
  {
   "cell_type": "code",
   "execution_count": 13,
   "metadata": {},
   "outputs": [
    {
     "data": {
      "text/plain": [
       "'ATF3 is a central regulator of interferon-beta and interferon-stimulated genes during the innate immune response'"
      ]
     },
     "execution_count": 13,
     "metadata": {},
     "output_type": "execute_result"
    }
   ],
   "source": [
    "series['GSE61055']['title']"
   ]
  },
  {
   "cell_type": "code",
   "execution_count": null,
   "metadata": {},
   "outputs": [],
   "source": [
    "def write_kind_to_series_csv():\n",
    "\n",
    "    with open('../some_documents/series_vs_gpl_tsv.csv','r') as tsvin, \\\n",
    "                            open('../some_documents/series_vs_gpl_tsv_with_kind.csv','w') as csvout:\n",
    "        tsvin = csv.reader(tsvin, delimiter='\\t')\n",
    "        csvout = csv.writer(csvout, delimiter='\\t')\n",
    "        rows = []\n",
    "        indexes = []\n",
    "        for (i, row) in enumerate(tsvin):\n",
    "            print(i)\n",
    "            if i == 0:\n",
    "                indexes = [row.index(j) for j in \\\n",
    "                           ['Series', 'Series_path', 'Platforms', 'Platforms_path', 'GPL']]\n",
    "                rows.append(['Series', 'Series_path', 'Platforms', 'Platforms_path', 'GPL',\\\n",
    "                             'Series_title', 'Series_taxonomy'])\n",
    "            else:\n",
    "                title = ''\n",
    "                taxonomy = ''\n",
    "                if row[indexes[0]] in series:\n",
    "                    title = series[row[indexes[0]]]['title']\n",
    "                    taxonomy = series[row[indexes[0]]]['taxonomy']\n",
    "                    \n",
    "                rows.append([row[indexes[0]], row[indexes[1]], row[indexes[2]],\\\n",
    "                             row[indexes[3]], row[indexes[4]], title, taxonomy])\n",
    "                        \n",
    "        csvout.writerows(rows)\n",
    "\n",
    "\n",
    "write_kind_to_series_csv()"
   ]
  },
  {
   "cell_type": "code",
   "execution_count": null,
   "metadata": {},
   "outputs": [],
   "source": [
    "def get_lists_series_2():\n",
    "\n",
    "    series = []\n",
    "\n",
    "    with open('../python_scripts_for_data_downloading/series_vs_platforms.csv','r') as tsvin:\n",
    "        tsvin = csv.reader(tsvin, delimiter='\\t')\n",
    "        indexes = []\n",
    "        for (i, row) in enumerate(tsvin):\n",
    "            print(i)\n",
    "            if i == 0:\n",
    "                indexes = [row.index(j) for j in ['Series']]\n",
    "            else:\n",
    "                series.append(row[indexes[0]])\n",
    "                                                                \n",
    "    return series\n",
    "\n",
    "ser = get_lists_series_2()"
   ]
  },
  {
   "cell_type": "code",
   "execution_count": 9,
   "metadata": {},
   "outputs": [
    {
     "data": {
      "text/plain": [
       "61532"
      ]
     },
     "execution_count": 9,
     "metadata": {},
     "output_type": "execute_result"
    }
   ],
   "source": [
    "len(set(ser))\n"
   ]
  }
 ],
 "metadata": {
  "kernelspec": {
   "display_name": "Python 3",
   "language": "python",
   "name": "python3"
  },
  "language_info": {
   "codemirror_mode": {
    "name": "ipython",
    "version": 3
   },
   "file_extension": ".py",
   "mimetype": "text/x-python",
   "name": "python",
   "nbconvert_exporter": "python",
   "pygments_lexer": "ipython3",
   "version": "3.5.2"
  }
 },
 "nbformat": 4,
 "nbformat_minor": 2
}
