{
 "cells": [
  {
   "cell_type": "code",
   "execution_count": null,
   "metadata": {
    "scrolled": true
   },
   "outputs": [],
   "source": [
    "import pandas as pd\n",
    "\n",
    "\n",
    "def change_module_name(name):\n",
    "    if name != 'universe':\n",
    "        tmp1 = name[7:name.find(' compared to ')-1]\n",
    "        tmp2 = name[name.find(' compared to ')+14:len(name)-1]\n",
    "        tmp1 = tmp1.split('_')\n",
    "        tmp2 = tmp2.split('_')\n",
    "        if len(tmp1) == len(tmp2):\n",
    "            if len(tmp1) > 1:\n",
    "                new_name = 'up in '\n",
    "                base = '_'\n",
    "                for i in range(0,len(tmp1),1):\n",
    "                    if (tmp1[i] != tmp2[i]):\n",
    "                        new_name = new_name + '\\'' + tmp1[i] + '\\'' + ' compared to ' + '\\'' + tmp2[i] + '\\''\n",
    "                    else:\n",
    "                        base = base + tmp1[i] + '_'\n",
    "                base = '\\'' + base + '\\''\n",
    "                base = base.replace(\"'_\", \"'\")\n",
    "                base = base.replace(\"_'\", \"'\")\n",
    "                new_name = new_name + ' on ' + base + '  background'\n",
    "                return True, new_name\n",
    "        else:\n",
    "            return False, name\n",
    "    return True, name\n",
    "\n",
    "# change_module_name(\"up in 'Scl.Ab_50.0.mg.kg_0.004%Tween.20_9.0%sucrose_10.0mMsodium.acetate/pH5_Treated_Osteocyte_time.point.309.0.d_0.004%Tween.20_9.0%sucrose_10.0mMsodium.acetate/pH5' compared to 'Scl.Ab_50.0.mg.kg_0.004%Tween.20_9.0%sucrose_10.0mMsodium.acetate/pH5_Treated_Osteocyte_time.point.309.0.d_Scl.Ab'\")\n",
    "# change_module_name(\"up in 'age.E13.5_genotype.Wild.Type_embryonic.fibroblasts' compared to 'age.E13.5_genotype.Snf5.Ezh2.deficient_embryonic.fibroblasts'\")    \n",
    "\n",
    "\n",
    "df = pd.read_csv('../some_documents/old_modules_annotations_files/mm.modules_annotations.tsv', sep='\\t')\n",
    "data = []\n",
    "wrong = []\n",
    "for index, row in df.iterrows():\n",
    "    print(index)\n",
    "    ok, name = change_module_name(row['Module_name'])\n",
    "    if ok:\n",
    "        line = [row['GSE'], row['GPL'], row['Module_number'], name]\n",
    "        data.append(line)\n",
    "    else:\n",
    "        wrong.append([row['GSE'], row['Module_number']])\n",
    "    \n",
    "\n",
    "e = pd.DataFrame(data, columns=['GSE', 'GPL', 'Module_number', 'Module_name'])\n",
    "e.to_csv('../some_documents/new_modules_annotations_files/mm.modules_annotations.tsv', \\\n",
    "         sep='\\t', index=False)"
   ]
  },
  {
   "cell_type": "code",
   "execution_count": 49,
   "metadata": {},
   "outputs": [
    {
     "data": {
      "text/plain": [
       "158"
      ]
     },
     "execution_count": 49,
     "metadata": {},
     "output_type": "execute_result"
    }
   ],
   "source": [
    "len(wrong)"
   ]
  },
  {
   "cell_type": "code",
   "execution_count": null,
   "metadata": {
    "scrolled": false
   },
   "outputs": [],
   "source": [
    "wrong"
   ]
  },
  {
   "cell_type": "code",
   "execution_count": 50,
   "metadata": {},
   "outputs": [],
   "source": [
    "ee = pd.DataFrame(wrong, columns=['GSE', 'Module_number'])\n",
    "ee.to_csv('../some_documents/new_modules_annotations_files/mm.wrong.tsv', \\\n",
    "         sep='\\t', index=False)"
   ]
  },
  {
   "cell_type": "code",
   "execution_count": 16,
   "metadata": {},
   "outputs": [
    {
     "data": {
      "text/html": [
       "<div>\n",
       "<style scoped>\n",
       "    .dataframe tbody tr th:only-of-type {\n",
       "        vertical-align: middle;\n",
       "    }\n",
       "\n",
       "    .dataframe tbody tr th {\n",
       "        vertical-align: top;\n",
       "    }\n",
       "\n",
       "    .dataframe thead th {\n",
       "        text-align: right;\n",
       "    }\n",
       "</style>\n",
       "<table border=\"1\" class=\"dataframe\">\n",
       "  <thead>\n",
       "    <tr style=\"text-align: right;\">\n",
       "      <th></th>\n",
       "      <th>va</th>\n",
       "      <th>av</th>\n",
       "      <th>Wawa!</th>\n",
       "    </tr>\n",
       "  </thead>\n",
       "  <tbody>\n",
       "    <tr>\n",
       "      <th>0</th>\n",
       "      <td>2</td>\n",
       "      <td>4</td>\n",
       "      <td>0</td>\n",
       "    </tr>\n",
       "    <tr>\n",
       "      <th>1</th>\n",
       "      <td>2</td>\n",
       "      <td>4</td>\n",
       "      <td>1</td>\n",
       "    </tr>\n",
       "    <tr>\n",
       "      <th>2</th>\n",
       "      <td>2</td>\n",
       "      <td>4</td>\n",
       "      <td>2</td>\n",
       "    </tr>\n",
       "    <tr>\n",
       "      <th>3</th>\n",
       "      <td>2</td>\n",
       "      <td>4</td>\n",
       "      <td>3</td>\n",
       "    </tr>\n",
       "    <tr>\n",
       "      <th>4</th>\n",
       "      <td>2</td>\n",
       "      <td>4</td>\n",
       "      <td>4</td>\n",
       "    </tr>\n",
       "  </tbody>\n",
       "</table>\n",
       "</div>"
      ],
      "text/plain": [
       "   va  av  Wawa!\n",
       "0   2   4      0\n",
       "1   2   4      1\n",
       "2   2   4      2\n",
       "3   2   4      3\n",
       "4   2   4      4"
      ]
     },
     "execution_count": 16,
     "metadata": {},
     "output_type": "execute_result"
    }
   ],
   "source": [
    "a = pd.DataFrame(data, columns=['a', 'b', 'c'])\n",
    "a.rename(columns={'a': 'va', 'b': 'av', 'c': 'Wawa!'})"
   ]
  },
  {
   "cell_type": "code",
   "execution_count": 17,
   "metadata": {},
   "outputs": [],
   "source": [
    "data = []\n",
    "for i in range(0,5,1):\n",
    "    line = [2, 4, i]\n",
    "    data.append(line)\n",
    "    \n",
    "e = pd.DataFrame(data, columns=['a', 'b', 'c'])\n",
    "e.to_csv('../some_documents/new_modules_annotations_files/rt.modules_annotations.tsv', \\\n",
    "         sep='\\t', index=False)"
   ]
  }
 ],
 "metadata": {
  "kernelspec": {
   "display_name": "Python 3",
   "language": "python",
   "name": "python3"
  },
  "language_info": {
   "codemirror_mode": {
    "name": "ipython",
    "version": 3
   },
   "file_extension": ".py",
   "mimetype": "text/x-python",
   "name": "python",
   "nbconvert_exporter": "python",
   "pygments_lexer": "ipython3",
   "version": "3.5.2"
  }
 },
 "nbformat": 4,
 "nbformat_minor": 2
}
