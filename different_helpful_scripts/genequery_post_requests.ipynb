{
 "cells": [
  {
   "cell_type": "code",
   "execution_count": 1,
   "metadata": {},
   "outputs": [],
   "source": [
    "import requests as rq\n",
    "import json"
   ]
  },
  {
   "cell_type": "code",
   "execution_count": 7,
   "metadata": {
    "scrolled": false
   },
   "outputs": [],
   "source": [
    "# a = rq.post('http://localhost:8423/perform-enrichment',#find-overlap', \n",
    "#             json={'genes' : [440915], \n",
    "#                   \"speciesFrom\" : \"hs\",\n",
    "#                   \"speciesTo\" : \"hs\"#,\n",
    "#                   #\"moduleName\" : \"GSE1000_GPL96#0\"\n",
    "#                  })\n",
    "\n",
    "a = rq.post('http://localhost:8423/find-overlap', \n",
    "            json={'genes' : [228140], \n",
    "                  \"speciesFrom\" : \"mm\",\n",
    "                  \"speciesTo\" : \"mm\",\n",
    "                  \"moduleName\" : \"GSE49804-GPL8321#3\"\n",
    "#                   \"moduleName\" : \"GSE49804-GPL8321#up in 'A_treatment.ethanol.vehicle' compared to 'A_B'\"\n",
    "                 })"
   ]
  },
  {
   "cell_type": "code",
   "execution_count": 8,
   "metadata": {},
   "outputs": [
    {
     "data": {
      "text/plain": [
       "'{\"result\":{\"overlapSymbolGenes\":[],\"otherModuleSymbolGenes\":[\"ACOX1\",\"ADCYAP1R1\",\"ADPRH\",\"APOE\",\"AQP4\",\"ARF5\",\"ATP1B2\",\"ATP6V0D1\",\"ATP8A1\",\"BCL7C\",\"CAV1\",\"SCARB2\",\"COIL\",\"CPE\",\"CPT1A\",\"CTF1\",\"ECI1\",\"S1PR1\",\"EMP2\",\"EPS15\",\"ERCC2\",\"AMZ2\",\"GAS5\",\"TSC22D3\",\"GJA1\",\"SLC6A9\",\"GNA13\",\"PDPN\",\"GPAM\",\"LANCL1\",\"IDUA\",\"LDB2\",\"LPL\",\"LTBR\",\"MEA1\",\"MT2\",\"MAPT\",\"MYO6\",\"NNAT\",\"OTX2\",\"BLOC1S6\",\"PAX6\",\"PDE9A\",\"PEA15A\",\"PEX11B\",\"PTPRG\",\"RDH5\",\"SCG3\",\"SCRG1\",\"SURF1\",\"TGFB1I1\",\"UBE2M\",\"UCHL1\",\"VCAM1\",\"WNT7B\",\"SLC30A4\",\"GDF15\",\"PEBP1\",\"ECI2\",\"SGCB\",\"ZEB2\",\"AXL\",\"MAPK10\",\"RBBP9\",\"TRAPPC3\",\"PDK4\",\"DGUOK\",\"PTDSS2\",\"ABCA3\",\"MED10\",\"ULK2\",\"FBXL12\",\"ORC3\",\"TMOD3\",\"PVR\",\"DNLZ\",\"ATXN10\",\"SKAP2\",\"CPQ\",\"RAMP2\",\"PDZRN3\",\"LGALS8\",\"TXNIP\",\"GLTP\",\"TRPC4AP\",\"DSTN\",\"RNF14\",\"NFU1\",\"TMEM9B\",\"SMARCE1\",\"ANGPTL4\",\"NEK6\",\"NISCH\",\"NMI\",\"TMEM176A\",\"TMEM42\",\"NDUFA3\",\"AAMDC\",\"KLF15\",\"MTERF3\",\"PSMD6\",\"PCP4L1\",\"TRIM13\",\"LZTR1\",\"RIOK2\",\"GATM\",\"ARL8B\",\"GLOD4\",\"MRPL55\",\"MBOAT2\",\"CAP2\",\"DECR1\",\"DHX40\",\"FAAP20\",\"TM7SF3\",\"RTP4\",\"COQ9\",\"2810417H13RIK\",\"CMTM3\",\"INO80\",\"MRPS18A\",\"RPAP1\",\"SSU72\",\"MANBAL\",\"ZFP397\",\"KCTD5\",\"ZFP932\",\"MTFMT\",\"DCTN2\",\"TMEM30A\",\"PHYHIPL\",\"2810459M11RIK\",\"CXX1C\",\"MSL1\",\"PLCE1\",\"DPP8\",\"FAM234B\",\"SCPEP1\",\"KLC4\",\"LHPP\",\"MBOAT7\",\"SPSB3\",\"DTX3\",\"LACTB\",\"GPANK1\",\"BCL2L13\",\"TNFRSF21\",\"HMGN3\",\"STRN4\",\"HSCB\",\"DHX32\",\"TCTA\",\"ADI1\",\"AI413582\",\"NT5C3\",\"EDEM2\",\"ZZZ3\",\"PRKCDBP\",\"TSPAN9\",\"PYGB\",\"MANBA\",\"LSM10\",\"SLC26A6\",\"MICAL1\",\"TTC28\",\"ABHD10\",\"LACE1\",\"MFAP3\",\"FERMT2\",\"VWA8\",\"CLDND1\",\"ZFP160\",\"LEMD2\",\"PEX6\",\"PPP2R5A\",\"SMOX\",\"KLHL42\",\"CCDC106\",\"TBC1D17\",\"PARP12\",\"APOA1BP\",\"CADM4\",\"WDFY2\",\"RAB6B\",\"RHBDD3\",\"NRCAM\",\"AI464131\",\"GLIPR2\",\"GM5617\",\"ZFP213\",\"GPR137B-PS\",\"MIR675\",\"MFAP1B\",\"RSPH3B\",\"RNASET2A\",\"GM2808\",\"GM2904\",\"GM3650\",\"GM28042\"]},\"success\":true,\"errors\":null}'"
      ]
     },
     "execution_count": 8,
     "metadata": {},
     "output_type": "execute_result"
    }
   ],
   "source": [
    "a.text"
   ]
  },
  {
   "cell_type": "code",
   "execution_count": null,
   "metadata": {},
   "outputs": [],
   "source": []
  },
  {
   "cell_type": "code",
   "execution_count": null,
   "metadata": {},
   "outputs": [],
   "source": []
  }
 ],
 "metadata": {
  "kernelspec": {
   "display_name": "Python 3",
   "language": "python",
   "name": "python3"
  },
  "language_info": {
   "codemirror_mode": {
    "name": "ipython",
    "version": 3
   },
   "file_extension": ".py",
   "mimetype": "text/x-python",
   "name": "python",
   "nbconvert_exporter": "python",
   "pygments_lexer": "ipython3",
   "version": "3.5.2"
  }
 },
 "nbformat": 4,
 "nbformat_minor": 2
}
