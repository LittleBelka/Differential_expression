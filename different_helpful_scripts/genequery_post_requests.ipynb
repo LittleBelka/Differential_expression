{
 "cells": [
  {
   "cell_type": "code",
   "execution_count": 13,
   "metadata": {},
   "outputs": [],
   "source": [
    "import requests as rq\n",
    "import json"
   ]
  },
  {
   "cell_type": "code",
   "execution_count": 16,
   "metadata": {
    "scrolled": false
   },
   "outputs": [],
   "source": [
    "# a = rq.post('http://localhost:8423/perform-enrichment',#find-overlap', \n",
    "#             json={'genes' : [440915], \n",
    "#                   \"speciesFrom\" : \"hs\",\n",
    "#                   \"speciesTo\" : \"hs\"#,\n",
    "#                   #\"moduleName\" : \"GSE1000_GPL96#0\"\n",
    "#                  })\n",
    "\n",
    "a = rq.post('http://localhost:8423/find-overlap', \n",
    "            json={'genes' : [228140], \n",
    "                  \"speciesFrom\" : \"mm\",\n",
    "                  \"speciesTo\" : \"mm\",\n",
    "                  \"moduleName\" : \"GSE49804-GPL8321#up in 'A_treatment.ethanol.vehicle' compared to 'A_B'\"\n",
    "                 })"
   ]
  },
  {
   "cell_type": "code",
   "execution_count": 17,
   "metadata": {},
   "outputs": [
    {
     "data": {
      "text/plain": [
       "'{\"result\":{\"overlapSymbolGenes\":[\"TNKS1BP1\"],\"otherModuleSymbolGenes\":[\"APC\",\"ARNTL\",\"BACH2\",\"BCL2\",\"ZFP36L1\",\"CASP2\",\"CHD1\",\"CSK\",\"DVL2\",\"S1PR1\",\"EFNB1\",\"EGFR\",\"EPHB3\",\"ERBB2\",\"FADD\",\"FJX1\",\"FZD9\",\"GAB1\",\"GAS1\",\"GPR19\",\"MAGI1\",\"PRMT2\",\"HYAL2\",\"AJUBA\",\"KLF4\",\"LDB1\",\"LMO4\",\"LTBR\",\"MYC\",\"MYO1B\",\"NCK1\",\"NDP\",\"NF1\",\"NLK\",\"NRP1\",\"PAX6\",\"PDE1B\",\"PJA1\",\"PNP\",\"POU3F4\",\"SIRPA\",\"RASA3\",\"REV3L\",\"RPIA\",\"CX3CL1\",\"SIN3A\",\"SMARCC1\",\"SOX12\",\"SOX2\",\"SOX9\",\"SYN2\",\"TCF3\",\"PHLDA1\",\"TESK1\",\"KLF10\",\"TRIM24\",\"TNFAIP1\",\"DEDD\",\"TRAF3\",\"TRIP6\",\"VASP\",\"WNT7A\",\"ZBTB14\",\"ZFP90\",\"ZFPM2\",\"MAPK7\",\"MTA2\",\"PTPN21\",\"TRP53BP1\",\"SHROOM3\",\"FAM104A\",\"USP21\",\"SALL2\",\"PANX1\",\"ACIN1\",\"MPP5\",\"METTL3\",\"DUSP14\",\"PIGO\",\"LITAF\",\"MOGS\",\"LPIN2\",\"AP3M2\",\"SLTM\",\"TAB3\",\"CDCA7\",\"SWSAP1\",\"THAP4\",\"SMC6\",\"PELI1\",\"CAP2\",\"CXXC5\",\"ARMCX2\",\"CPEB4\",\"RSPRY1\",\"ZMYM4\",\"RPRM\",\"SETD8\",\"BTBD10\",\"PYGO2\",\"SNX15\",\"FAM58B\",\"CTDSPL\",\"KANSL2\",\"ARAP1\",\"TTL\",\"MED23\",\"PLSCR3\",\"MED26\",\"PGRMC2\",\"PHYHIPL\",\"CDC5L\",\"ARMCX3\",\"DNMBP\",\"CNN3\",\"ZFYVE19\",\"ZFP566\",\"CDC42SE2\",\"2810459M11RIK\",\"SLC22A23\",\"PPP2R1B\",\"PPP1R21\",\"PGS1\",\"RAI14\",\"ST5\",\"BCL9\",\"MBOAT7\",\"PHF23\",\"NAA35\",\"DUSP12\",\"ZBTB22\",\"GLIS2\",\"SYTL2\",\"WASF1\",\"FAM126A\",\"KLF7\",\"PARD6G\",\"VANGL2\",\"TRIM33\",\"UBQLN4\",\"D530037H12RIK\",\"COMMD7\",\"SNAPC2\",\"HINFP\",\"CSNK1G2\",\"CDC42EP1\",\"TOPORS\",\"GGA1\",\"STK38\",\"TRIP10\",\"SLC39A6\",\"VPS37C\",\"ZZZ3\",\"TRIOBP\",\"GTF2IRD2\",\"FGFRL1\",\"LSM10\",\"KLF16\",\"ACBD3\",\"ZBTB12\",\"KMT2A\",\"CDK5RAP2\",\"SEMA6D\",\"SOCS2\",\"TADA2A\",\"ATXN7L3\",\"TRIB2\",\"ZMYM5\",\"SOX21\",\"TMEM184B\",\"CRYBG3\",\"FAM13B\",\"ERLIN1\",\"PPP2R5A\",\"TGIF2\",\"SMG5\",\"PHF13\",\"THUMPD1\",\"ZBTB44\",\"RAB8B\",\"CCNJ\",\"ZFP568\",\"KAT6A\",\"SLC25A28\",\"CABLES2\",\"PHF12\",\"NLRX1\",\"TSTD2\",\"ARL4C\",\"CDV3\",\"VPS37B\",\"MORC3\",\"ZBTB2\",\"SPECC1\",\"GM13889\",\"NOVA1\",\"PNP2\",\"GM10651\",\"ARMCX4\"]},\"success\":true,\"errors\":null}'"
      ]
     },
     "execution_count": 17,
     "metadata": {},
     "output_type": "execute_result"
    }
   ],
   "source": [
    "a.text"
   ]
  },
  {
   "cell_type": "code",
   "execution_count": null,
   "metadata": {},
   "outputs": [],
   "source": []
  },
  {
   "cell_type": "code",
   "execution_count": null,
   "metadata": {},
   "outputs": [],
   "source": []
  }
 ],
 "metadata": {
  "kernelspec": {
   "display_name": "Python 3",
   "language": "python",
   "name": "python3"
  },
  "language_info": {
   "codemirror_mode": {
    "name": "ipython",
    "version": 3
   },
   "file_extension": ".py",
   "mimetype": "text/x-python",
   "name": "python",
   "nbconvert_exporter": "python",
   "pygments_lexer": "ipython3",
   "version": "3.5.2"
  }
 },
 "nbformat": 4,
 "nbformat_minor": 2
}
