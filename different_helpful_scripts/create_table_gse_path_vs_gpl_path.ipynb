{
 "cells": [
  {
   "cell_type": "code",
   "execution_count": 65,
   "metadata": {},
   "outputs": [],
   "source": [
    "def read_file(file_name):\n",
    "    lines = [line.rstrip('\\n') for line in open(file_name)]\n",
    "    return lines\n",
    "\n",
    "strings = read_file('series.txt')   #all gse on server in geo/series/\n",
    "gpl = read_file('platforms.txt')    #all gpl on server in geo/platforms/\n",
    "gpl_tsv = read_file('gpl.txt')      #all gpl.tsv on server in gpl/"
   ]
  },
  {
   "cell_type": "code",
   "execution_count": 66,
   "metadata": {},
   "outputs": [],
   "source": [
    "import re\n",
    "\n",
    "def get_only_name_gse(lines):\n",
    "    gse = []\n",
    "    for i in range(0,len(lines),1):\n",
    "        tmp = re.sub('(.*/)*', \"\", lines[i])\n",
    "        tmp = re.sub('_series_matrix.txt.gz', \"\", tmp)\n",
    "        tmp = re.sub('\\\\.', \"\", tmp)\n",
    "        tmp = re.sub('-.*', \"\", tmp)\n",
    "        gse.append(tmp)\n",
    "    return gse\n",
    "\n",
    "\n",
    "def get_gpl_name_from_gse(lines):\n",
    "    gpl = []\n",
    "    for i in range(0,len(lines),1):\n",
    "        tmp = re.sub('(.*/)*', \"\", lines[i])\n",
    "        tmp = re.sub('_series_matrix.txt.gz', \"\", tmp)\n",
    "        tmp = re.sub('(.*-)', '', tmp)\n",
    "        if 'GPL' in tmp:\n",
    "            gpl.append(tmp)\n",
    "        else:\n",
    "            gpl.append(\"_\")\n",
    "                \n",
    "    return gpl\n",
    "\n",
    "\n",
    "def get_gpl_from_server(lines):\n",
    "    gpl = []\n",
    "    for i in range(0,len(lines),1):\n",
    "        tmp = re.sub('(.*/)*', \"\", lines[i])\n",
    "        tmp = re.sub('.annot.gz', \"\", tmp)\n",
    "        gpl.append(tmp)\n",
    "    return gpl\n",
    "\n",
    "\n",
    "def get_gpl_tsv(lines):\n",
    "    gpl = []\n",
    "    for i in range(0,len(lines),1):\n",
    "        tmp = re.sub('(.*/)*', \"\", lines[i])\n",
    "        tmp = re.sub('.tsv', \"\", tmp)\n",
    "        gpl.append(tmp)\n",
    "    return gpl\n",
    "\n",
    "\n",
    "name_gse = get_only_name_gse(strings)\n",
    "name_gpl = get_gpl_name_from_gse(strings)\n",
    "name_gpl_from_server = get_gpl_from_server(gpl)\n",
    "name_gpl_tsv = get_gpl_tsv(gpl_tsv)"
   ]
  },
  {
   "cell_type": "code",
   "execution_count": 67,
   "metadata": {},
   "outputs": [],
   "source": [
    "import csv\n",
    "\n",
    "\n",
    "def read_series_vs_platforms():\n",
    "    \n",
    "    series = []\n",
    "    platforms = []\n",
    "        \n",
    "    with open('new_series_vs_platforms.csv','r') as tsvin:\n",
    "        tsvin = csv.reader(tsvin, delimiter='\\t')\n",
    "        indexes = []\n",
    "        \n",
    "        for (i, row) in enumerate(tsvin):\n",
    "            if i == 0:\n",
    "                indexes = [row.index(j) for j in ['Series', 'Platforms']]\n",
    "            else:\n",
    "                series.append(row[indexes[0]]) \n",
    "                platforms.append(row[indexes[1]])\n",
    "            \n",
    "    return series, platforms    \n",
    "                        \n",
    "\n",
    "series, platforms = read_series_vs_platforms()"
   ]
  },
  {
   "cell_type": "code",
   "execution_count": 55,
   "metadata": {},
   "outputs": [
    {
     "data": {
      "text/plain": [
       "16122"
      ]
     },
     "execution_count": 55,
     "metadata": {},
     "output_type": "execute_result"
    }
   ],
   "source": [
    "series.index(\"GSE40554\")"
   ]
  },
  {
   "cell_type": "code",
   "execution_count": 56,
   "metadata": {},
   "outputs": [
    {
     "data": {
      "text/plain": [
       "'GPL4124'"
      ]
     },
     "execution_count": 56,
     "metadata": {},
     "output_type": "execute_result"
    }
   ],
   "source": [
    "platforms[16122]"
   ]
  },
  {
   "cell_type": "code",
   "execution_count": 70,
   "metadata": {},
   "outputs": [],
   "source": [
    "import csv\n",
    "\n",
    "\n",
    "def create_csv(file_name):\n",
    "    with open(file_name, 'w') as csvout:\n",
    "        csvout = csv.writer(csvout, delimiter='\\t')\n",
    "        rows = []\n",
    "        rows.append(['Series', 'Series_path', 'Platforms', 'Platforms_path', 'GPL'])\n",
    "        \n",
    "        for i in range(0,len(strings),1):\n",
    "            if name_gpl[i] == '_':\n",
    "                name_gpl[i] = platforms[series.index(name_gse[i])]\n",
    "\n",
    "            pl_path = ''\n",
    "            pl_tsv_path = ''\n",
    "            if name_gpl[i] != '_':\n",
    "\n",
    "                if name_gpl[i] in name_gpl_from_server:\n",
    "                    pl_path = gpl[name_gpl_from_server.index(name_gpl[i])]\n",
    "\n",
    "                if name_gpl[i] in name_gpl_tsv:\n",
    "                    pl_tsv_path = gpl_tsv[name_gpl_tsv.index(name_gpl[i])]\n",
    "            \n",
    "            rows.append([name_gse[i], strings[i], name_gpl[i], pl_path, pl_tsv_path])\n",
    "            \n",
    "        csvout.writerows(rows)\n",
    "\n",
    "        \n",
    "create_csv('series_vs_gpl_tsv.csv')"
   ]
  },
  {
   "cell_type": "code",
   "execution_count": null,
   "metadata": {
    "scrolled": true
   },
   "outputs": [],
   "source": [
    "for i in range(0,len(strings),1):\n",
    "    if name_gpl[i] == '_':\n",
    "        name_gpl[i] = platforms[series.index(name_gse[i])]\n",
    "    \n",
    "    pl_path = ''\n",
    "    pl_tsv_path = ''\n",
    "    if name_gpl[i] != '_':\n",
    "        \n",
    "        if name_gpl[i] in name_gpl_from_server:\n",
    "            pl_path = gpl[name_gpl_from_server.index(name_gpl[i])]\n",
    "\n",
    "        if name_gpl[i] in name_gpl_tsv:\n",
    "            pl_tsv_path = gpl_tsv[name_gpl_tsv.index(name_gpl[i])]\n",
    "    \n",
    "    \n",
    "    print(name_gse[i], ', ', strings[i], ', ', name_gpl[i], ', ', pl_path, ', ', pl_tsv_path)"
   ]
  },
  {
   "cell_type": "code",
   "execution_count": 13,
   "metadata": {},
   "outputs": [
    {
     "data": {
      "text/plain": [
       "'GSE9157'"
      ]
     },
     "execution_count": 13,
     "metadata": {},
     "output_type": "execute_result"
    }
   ],
   "source": [
    "ss = \"../geo/series/GSE9nnn/GSE9157/matrix/GSE9157_series_matrix.txt.gz\"\n",
    "ss = re.sub('(.*/)*', \"\", ss)\n",
    "ss = re.sub('_series_matrix.txt.gz', \"\", ss)\n",
    "ss = re.sub('(.*-)', '', ss)\n",
    "ss"
   ]
  },
  {
   "cell_type": "code",
   "execution_count": 15,
   "metadata": {},
   "outputs": [],
   "source": [
    "if 'GSE' not in ss:\n",
    "    print(\"!!\")"
   ]
  },
  {
   "cell_type": "code",
   "execution_count": 64,
   "metadata": {},
   "outputs": [
    {
     "ename": "ValueError",
     "evalue": "'t' is not in list",
     "output_type": "error",
     "traceback": [
      "\u001b[0;31m---------------------------------------------------------------------------\u001b[0m",
      "\u001b[0;31mValueError\u001b[0m                                Traceback (most recent call last)",
      "\u001b[0;32m<ipython-input-64-5e3791e18f6f>\u001b[0m in \u001b[0;36m<module>\u001b[0;34m()\u001b[0m\n\u001b[1;32m      1\u001b[0m \u001b[0ma\u001b[0m \u001b[0;34m=\u001b[0m \u001b[0;34m[\u001b[0m\u001b[0;34m'g'\u001b[0m\u001b[0;34m,\u001b[0m \u001b[0;34m'tt'\u001b[0m\u001b[0;34m,\u001b[0m \u001b[0;34m'rr'\u001b[0m\u001b[0;34m]\u001b[0m\u001b[0;34m\u001b[0m\u001b[0m\n\u001b[0;32m----> 2\u001b[0;31m \u001b[0ma\u001b[0m\u001b[0;34m.\u001b[0m\u001b[0mindex\u001b[0m\u001b[0;34m(\u001b[0m\u001b[0;34m't'\u001b[0m\u001b[0;34m)\u001b[0m\u001b[0;34m\u001b[0m\u001b[0m\n\u001b[0m",
      "\u001b[0;31mValueError\u001b[0m: 't' is not in list"
     ]
    }
   ],
   "source": [
    "a = ['g', 'tt', 'rr']\n",
    "a.index('t')"
   ]
  }
 ],
 "metadata": {
  "kernelspec": {
   "display_name": "Python 3",
   "language": "python",
   "name": "python3"
  },
  "language_info": {
   "codemirror_mode": {
    "name": "ipython",
    "version": 3
   },
   "file_extension": ".py",
   "mimetype": "text/x-python",
   "name": "python",
   "nbconvert_exporter": "python",
   "pygments_lexer": "ipython3",
   "version": "3.5.2"
  }
 },
 "nbformat": 4,
 "nbformat_minor": 2
}
