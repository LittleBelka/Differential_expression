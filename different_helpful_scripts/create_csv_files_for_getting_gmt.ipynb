{
 "cells": [
  {
   "cell_type": "code",
   "execution_count": 19,
   "metadata": {
    "scrolled": false
   },
   "outputs": [],
   "source": [
    "import csv\n",
    "\n",
    "def write_csv(file_name, kind):\n",
    "\n",
    "    with open('../some_documents/series_vs_gpl_tsv_with_kind.csv','r') as tsvin, \\\n",
    "                            open(file_name,'w') as csvout:\n",
    "        tsvin = csv.reader(tsvin, delimiter='\\t')\n",
    "        csvout = csv.writer(csvout, delimiter='\\t')\n",
    "        rows = []\n",
    "        indexes = {}\n",
    "        for (i, row) in enumerate(tsvin):\n",
    "            if i == 0:\n",
    "                indexes = {j : row.index(j) for j in\n",
    "                           ['Series_path', 'GPL', 'Series_taxonomy']}\n",
    "                rows.append(['dataSetSeries', 'availableGPL'])\n",
    "            else:\n",
    "                if (row[indexes['Series_taxonomy']] == kind) \\\n",
    "                   & (row[indexes['GPL']] != \"\"):\n",
    "                    rows.append([row[indexes['Series_path']], \n",
    "                                 row[indexes['GPL']]])\n",
    "                        \n",
    "        csvout.writerows(rows)\n",
    "\n",
    "\n",
    "write_csv(\"../some_documents/mouse_for_slurm_script.csv\", \"mus musculus\")\n",
    "write_csv(\"../some_documents/rat_for_slurm_script.csv\", \"rattus norvegicus\")\n",
    "write_csv(\"../some_documents/human_for_slurm_script.csv\", \"homo sapiens\")"
   ]
  },
  {
   "cell_type": "code",
   "execution_count": 20,
   "metadata": {},
   "outputs": [
    {
     "data": {
      "text/plain": [
       "['excel', 'excel-tab', 'unix']"
      ]
     },
     "execution_count": 20,
     "metadata": {},
     "output_type": "execute_result"
    }
   ],
   "source": [
    "csv.list_dialects()"
   ]
  },
  {
   "cell_type": "code",
   "execution_count": 16,
   "metadata": {},
   "outputs": [],
   "source": [
    "with open(\"../some_documents/mouse_for_slurm_script.csv\",'w') as csvout:\n",
    "    csvout = csv.writer(csvout, delimiter='\\t')\n",
    "csvout.writerows(rows)"
   ]
  },
  {
   "cell_type": "code",
   "execution_count": 4,
   "metadata": {},
   "outputs": [],
   "source": [
    "import pandas as pd"
   ]
  },
  {
   "cell_type": "code",
   "execution_count": 9,
   "metadata": {},
   "outputs": [],
   "source": [
    "df = pd.read_csv('../some_documents/series_vs_gpl_tsv_with_kind.csv', sep='\\t')"
   ]
  },
  {
   "cell_type": "code",
   "execution_count": 42,
   "metadata": {},
   "outputs": [],
   "source": [
    "def create_csv(file_path, new_file_path, kind=\"mus musculus\"):\n",
    "    \n",
    "    df = pd.read_csv(file_path, sep='\\t')\n",
    "    \n",
    "    df = df.loc[(df.GPL != '') \n",
    "                & (~df.GPL.isna())\n",
    "                & (df.Series_taxonomy == kind), \n",
    "                ['Series_path', 'GPL']]\\\n",
    "           .rename(columns={'Series_path' : 'dataSetSeries',\n",
    "                            'GPL' : 'availableGPL'})\n",
    "    \n",
    "    df.to_csv(new_file_path, index=False, sep='\\t')"
   ]
  },
  {
   "cell_type": "code",
   "execution_count": 43,
   "metadata": {},
   "outputs": [],
   "source": [
    "create_csv('../some_documents/series_vs_gpl_tsv_with_kind.csv', \n",
    "           \"../some_documents/rat_for_slurm_script.csv\")"
   ]
  },
  {
   "cell_type": "code",
   "execution_count": null,
   "metadata": {},
   "outputs": [],
   "source": [
    "pd.read_csv(\"../some_documents/rat_for_slurm_script.csv\", \n",
    "                     sep='\\t').head()"
   ]
  },
  {
   "cell_type": "code",
   "execution_count": null,
   "metadata": {},
   "outputs": [],
   "source": [
    "for (_, i) in pd.read_csv(\"../some_documents/rat_for_slurm_script.csv\", \n",
    "                     sep='\\t').iterrows():\n",
    "    print(i.availableGPL)\n",
    "#     print(pd.read_csv(i.availableGPL, sep='\\t').head(1))\n",
    "#     break"
   ]
  }
 ],
 "metadata": {
  "kernelspec": {
   "display_name": "Python 3",
   "language": "python",
   "name": "python3"
  },
  "language_info": {
   "codemirror_mode": {
    "name": "ipython",
    "version": 3
   },
   "file_extension": ".py",
   "mimetype": "text/x-python",
   "name": "python",
   "nbconvert_exporter": "python",
   "pygments_lexer": "ipython3",
   "version": "3.5.2"
  }
 },
 "nbformat": 4,
 "nbformat_minor": 2
}
