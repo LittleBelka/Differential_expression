{
 "cells": [
  {
   "cell_type": "code",
   "execution_count": null,
   "metadata": {},
   "outputs": [],
   "source": [
    "import csv\n",
    "\n",
    "\n",
    "def get_lists_platforms_and_series():\n",
    "    \n",
    "    rows = []\n",
    "        \n",
    "    with open('geo_samples.tsv','r') as tsvin, open('series_vs_platforms_kind.csv', 'w') as csvout:\n",
    "        tsvin = csv.reader(tsvin, delimiter='\\t')\n",
    "        csvout = csv.writer(csvout, delimiter='\\t')\n",
    "        indexes = []\n",
    "        \n",
    "        for (i, row) in enumerate(tsvin):\n",
    "            if i == 0:\n",
    "                indexes = [row.index(j) for j in ['Series', 'Taxonomy', 'Platform']]\n",
    "                rows.append(['Series', 'Platforms'])\n",
    "            \n",
    "            if row[indexes[1]].lower() in {\"homo sapiens\", \"mus musculus\", \"rattus norvegicus\"}:\n",
    "                print(i)\n",
    "                ser = row[indexes[0]].split(\";\")\n",
    "                for s in ser: \n",
    "                    r = [s, row[indexes[2]], row[indexes[1]].lower()]\n",
    "                    if r not in rows:\n",
    "                        rows.append(r)\n",
    "                        \n",
    "        print(\"Length rows: \", len(rows))\n",
    "        csvout.writerows(rows)\n",
    "                        \n",
    "\n",
    "get_lists_platforms_and_series()"
   ]
  },
  {
   "cell_type": "code",
   "execution_count": 88,
   "metadata": {},
   "outputs": [],
   "source": [
    "import pandas as pd\n",
    "\n",
    "t_kind = pd.read_csv('series_vs_platforms_kind.csv', sep='\\t')\n",
    "\n",
    "\n",
    "t_used = pd.read_csv('../some_documents/series_vs_gpl_tsv_with_kind.csv', sep='\\t')\n"
   ]
  },
  {
   "cell_type": "code",
   "execution_count": 89,
   "metadata": {},
   "outputs": [
    {
     "name": "stdout",
     "output_type": "stream",
     "text": [
      "4\n",
      "2045\n"
     ]
    },
    {
     "data": {
      "text/plain": [
       "'homo sapiens'"
      ]
     },
     "execution_count": 89,
     "metadata": {},
     "output_type": "execute_result"
    }
   ],
   "source": [
    "e = t_kind.Series_taxonomy[t_kind['Series']=='GSE16716']\n",
    "if (not e.empty):\n",
    "    print(len(e.index))\n",
    "    print(e.index[1])\n",
    "    \n",
    "e[2045]"
   ]
  },
  {
   "cell_type": "code",
   "execution_count": null,
   "metadata": {
    "scrolled": true
   },
   "outputs": [],
   "source": [
    "new_rows = []\n",
    "count_many = 0\n",
    "count_one = 0\n",
    "\n",
    "for index, row in t_used.iterrows(): \n",
    "    kind = t_kind.Series_taxonomy[(t_kind['Series'] == row['Series']) & (t_kind['Platforms'] == row['Platforms'])]\n",
    "    \n",
    "    if not kind.empty:\n",
    "        \n",
    "        if len(kind.index) == 1:\n",
    "            new_row = [row['Series'], row['Series_path'], row['Platforms'], row['Platforms_path'], \\\n",
    "                          row['GPL'], row['Series_title']]\n",
    "            if kind.values[0] != row['Series_taxonomy']:\n",
    "                count_one = count_one + 1\n",
    "                print(index, \" \", row['Series'], \" \", row['Platforms'], \" \", row['Series_taxonomy'], \" \", kind.values[0])\n",
    "                new_row.append(kind.values[0])\n",
    "            else:\n",
    "                new_row.append(row['Series_taxonomy'])\n",
    "                \n",
    "            new_rows.append(new_row)\n",
    "        else:\n",
    "            for i in range(0,len(kind.index),1):\n",
    "                new_row = [row['Series'], row['Series_path'], row['Platforms'], row['Platforms_path'], \\\n",
    "                          row['GPL'], row['Series_title'], kind[kind.index[i]]]\n",
    "                new_rows.append(new_row)\n",
    "            count_many = count_many + 1\n",
    "    else:\n",
    "        new_row = [row['Series'], row['Series_path'], row['Platforms'], row['Platforms_path'], \\\n",
    "                          row['GPL'], row['Series_title'], row['Series_taxonomy']]\n",
    "        new_rows.append(new_row)\n",
    "\n",
    "print(\"count_one: \", count_one)\n",
    "print(\"count_many: \", count_many)\n",
    "df = pd.DataFrame(new_rows,columns=['Series','Series_path','Platforms','Platforms_path','GPL','Series_title',\\\n",
    "                               'Series_taxonomy'])\n",
    "print(\"drop\")\n",
    "df_clear = df.drop_duplicates(subset=['Series', 'Platforms', 'Series_taxonomy'], keep=False)\n"
   ]
  },
  {
   "cell_type": "code",
   "execution_count": 99,
   "metadata": {},
   "outputs": [
    {
     "data": {
      "text/plain": [
       "RangeIndex(start=0, stop=74245, step=1)"
      ]
     },
     "execution_count": 99,
     "metadata": {},
     "output_type": "execute_result"
    }
   ],
   "source": [
    "df.index"
   ]
  },
  {
   "cell_type": "code",
   "execution_count": 102,
   "metadata": {},
   "outputs": [],
   "source": [
    "df_clear.to_csv('../some_documents/series_vs_gpl_tsv_with_kind_2.tsv', sep='\\t', index=False)"
   ]
  }
 ],
 "metadata": {
  "kernelspec": {
   "display_name": "Python 3",
   "language": "python",
   "name": "python3"
  },
  "language_info": {
   "codemirror_mode": {
    "name": "ipython",
    "version": 3
   },
   "file_extension": ".py",
   "mimetype": "text/x-python",
   "name": "python",
   "nbconvert_exporter": "python",
   "pygments_lexer": "ipython3",
   "version": "3.5.2"
  }
 },
 "nbformat": 4,
 "nbformat_minor": 2
}
