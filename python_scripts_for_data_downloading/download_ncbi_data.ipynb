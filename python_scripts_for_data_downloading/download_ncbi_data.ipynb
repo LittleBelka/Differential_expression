{
 "cells": [
  {
   "cell_type": "code",
   "execution_count": null,
   "metadata": {},
   "outputs": [],
   "source": [
    "import subprocess\n",
    "from ftplib import FTP\n",
    "import csv\n",
    "import os\n",
    "\n",
    "\n",
    "def download_data(file_name, kind_data): \n",
    "    with open(file_name,'r') as tsvin:\n",
    "        tsvin = csv.reader(tsvin, delimiter=',')\n",
    "        indexes = []\n",
    "        for (i, row) in enumerate(tsvin):\n",
    "            if i == 0:\n",
    "                indexes = [row.index(j) for j in ['key', 'path']]\n",
    "                \n",
    "            try:\n",
    "                directory = \"../geo/\" + kind_data + \"/\" + row[indexes[1]]\n",
    "\n",
    "                ftp = FTP('ftp.ncbi.nlm.nih.gov')\n",
    "                ftp.login()\n",
    "                ftp.cwd('/geo/' + kind_data + '/' + row[indexes[1]])\n",
    "                data_list = ftp.nlst()\n",
    "                \n",
    "                for data in data_list:\n",
    "                    download = 'https://ftp.ncbi.nlm.nih.gov/geo/' + kind_data + '/' + \\\n",
    "                                row[indexes[1]] + data\n",
    "\n",
    "                    subprocess.call([\"mkdir\", \"-p\", directory])\n",
    "\n",
    "                    if data not in os.listdir(directory):\n",
    "                        subprocess.call([\"wget\", \"-c\", \"-P\", directory, download])\n",
    "            except:\n",
    "                pass\n",
    "            print('current', kind_data, ': ', row[indexes[0]], 'path: ', \\\n",
    "                                              row[indexes[1]], ' with i: ', i)                                                                              \n",
    "        \n",
    "        \n",
    "download_data(\"list_platforms.csv\", 'platforms')\n",
    "#download_data(\"list_series.csv\", 'series')"
   ]
  }
 ],
 "metadata": {
  "kernelspec": {
   "display_name": "Python 3",
   "language": "python",
   "name": "python3"
  },
  "language_info": {
   "codemirror_mode": {
    "name": "ipython",
    "version": 3
   },
   "file_extension": ".py",
   "mimetype": "text/x-python",
   "name": "python",
   "nbconvert_exporter": "python",
   "pygments_lexer": "ipython3",
   "version": "3.5.2"
  }
 },
 "nbformat": 4,
 "nbformat_minor": 2
}
