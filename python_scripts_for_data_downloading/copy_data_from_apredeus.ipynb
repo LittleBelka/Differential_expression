{
 "cells": [
  {
   "cell_type": "code",
   "execution_count": null,
   "metadata": {
    "scrolled": true
   },
   "outputs": [],
   "source": [
    "def get_matrixes():\n",
    "    \n",
    "    from ftplib import FTP\n",
    "    ftp = FTP('ftp.ncbi.nlm.nih.gov')\n",
    "    ftp.login()\n",
    "\n",
    "    ftp.cwd('/geo/series/')\n",
    "    series_list = ftp.nlst()\n",
    "\n",
    "    matrices = {}\n",
    "\n",
    "    for i in range(0,len(series_list),1):\n",
    "        print('current serie: ', series_list[i], ' with i: ', i)\n",
    "        cur_ser = \"\"\n",
    "        cur_ser = ftp.cwd('/geo/series/' + series_list[i] + '/')\n",
    "\n",
    "        datasets_list = ftp.nlst()\n",
    "\n",
    "        for j in range(0,len(datasets_list),1):\n",
    "            matrices[datasets_list[j]] = series_list[i] + \"/\" + datasets_list[j] + \"/matrix/\"\n",
    "        print(\"__________________________________________________________________\")\n",
    "        \n",
    "    return matrices  "
   ]
  },
  {
   "cell_type": "code",
   "execution_count": null,
   "metadata": {},
   "outputs": [],
   "source": [
    "def copy_data(matrices, kind_matrices, kind): \n",
    "    \n",
    "    list_unavailable_matrices = []\n",
    "    \n",
    "    for i in range(0,len(kind_matrices), 1):\n",
    "        \n",
    "        cur_matrice = re.findall('^GSE[0-9]+', kind_matrices[i])[0]\n",
    "        \n",
    "        if cur_matrice in matrices:\n",
    "            copy_matrice_from = \"../../apredeus/\" + kind + \"/downloaded_matrices/\" + kind_matrices[i]\n",
    "            copy_matrice_to = \"../geo/series/\" + matrices[cur_matrice] + kind_matrices[i]\n",
    "            dir_matrice = \"../geo/series/\" + matrices[cur_matrice]\n",
    "\n",
    "            subprocess.call([\"mkdir\", \"-p\", dir_matrice])\n",
    "            \n",
    "            if kind_matrices[i] not in os.listdir(dir_matrice):\n",
    "                subprocess.call([\"cp\", copy_matrice_from, copy_matrice_to])\n",
    "\n",
    "            print('current matrice: ', cur_matrice, ' with i: ', i)\n",
    "            \n",
    "        else:\n",
    "            list_unavailable_matrices.append(cur_matrice)\n",
    "            print('unavailable matrice: ', cur_matrice, ' with i: ', i)\n",
    "            \n",
    "        print(\"__________________________________________________________\")   \n",
    "    \n",
    "    if list_unavailable_matrices:\n",
    "        show_unavailable_matrices(list_unavailable_matrices, kind)\n",
    "    \n",
    "       \n",
    "        \n",
    "def show_unavailable_matrices(list_unavailable_matrices, kind): \n",
    "    \n",
    "    print(\"List of unavailable matrices: \", list_unavailable_matrices)\n",
    "    \n",
    "    file_name = \"list_unavailable_matrices_\" + kind + \".txt\"\n",
    "    text_file = open(file_name, \"w\")\n",
    "    \n",
    "    for item in list_unavailable_matrices:\n",
    "        text_file.write(\"%s\\n\" % item)\n",
    "    text_file.close()"
   ]
  },
  {
   "cell_type": "code",
   "execution_count": null,
   "metadata": {},
   "outputs": [],
   "source": [
    "import os \n",
    "import re\n",
    "import subprocess\n",
    "\n",
    "matrices = get_matrixes()\n",
    "\n",
    "mouse_matrices = os.listdir(\"../../apredeus/mouse/downloaded_matrices\")\n",
    "rat_matrices = os.listdir(\"../../apredeus/rat/downloaded_matrices\")\n",
    "human_matrices = os.listdir(\"../../apredeus/human/downloaded_matrices\")\n",
    "\n",
    "print(\"Start data copy\")\n",
    "\n",
    "copy_data(matrices, mouse_matrices, \"mouse\")\n",
    "copy_data(matrices, rat_matrices, \"rat\")\n",
    "copy_data(matrices, human_matrices, \"human\")"
   ]
  }
 ],
 "metadata": {
  "kernelspec": {
   "display_name": "Python 3",
   "language": "python",
   "name": "python3"
  },
  "language_info": {
   "codemirror_mode": {
    "name": "ipython",
    "version": 3
   },
   "file_extension": ".py",
   "mimetype": "text/x-python",
   "name": "python",
   "nbconvert_exporter": "python",
   "pygments_lexer": "ipython3",
   "version": "3.5.2"
  }
 },
 "nbformat": 4,
 "nbformat_minor": 2
}
