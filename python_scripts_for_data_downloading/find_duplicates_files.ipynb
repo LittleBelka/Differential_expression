{
 "cells": [
  {
   "cell_type": "code",
   "execution_count": 1,
   "metadata": {},
   "outputs": [
    {
     "ename": "FileNotFoundError",
     "evalue": "[Errno 2] No such file or directory: '../../apredeus/mouse/downloaded_matrices'",
     "output_type": "error",
     "traceback": [
      "\u001b[0;31m---------------------------------------------------------------------------\u001b[0m",
      "\u001b[0;31mFileNotFoundError\u001b[0m                         Traceback (most recent call last)",
      "\u001b[0;32m<ipython-input-1-a7e824f8dbac>\u001b[0m in \u001b[0;36m<module>\u001b[0;34m()\u001b[0m\n\u001b[1;32m      1\u001b[0m \u001b[0;32mimport\u001b[0m \u001b[0mos\u001b[0m\u001b[0;34m\u001b[0m\u001b[0m\n\u001b[1;32m      2\u001b[0m \u001b[0;34m\u001b[0m\u001b[0m\n\u001b[0;32m----> 3\u001b[0;31m \u001b[0mmouse_matrices\u001b[0m \u001b[0;34m=\u001b[0m \u001b[0mos\u001b[0m\u001b[0;34m.\u001b[0m\u001b[0mlistdir\u001b[0m\u001b[0;34m(\u001b[0m\u001b[0;34m\"../../apredeus/mouse/downloaded_matrices\"\u001b[0m\u001b[0;34m)\u001b[0m\u001b[0;34m\u001b[0m\u001b[0m\n\u001b[0m\u001b[1;32m      4\u001b[0m \u001b[0mrat_matrices\u001b[0m \u001b[0;34m=\u001b[0m \u001b[0mos\u001b[0m\u001b[0;34m.\u001b[0m\u001b[0mlistdir\u001b[0m\u001b[0;34m(\u001b[0m\u001b[0;34m\"../../apredeus/rat/downloaded_matrices\"\u001b[0m\u001b[0;34m)\u001b[0m\u001b[0;34m\u001b[0m\u001b[0m\n\u001b[1;32m      5\u001b[0m \u001b[0mhuman_matrices\u001b[0m \u001b[0;34m=\u001b[0m \u001b[0mos\u001b[0m\u001b[0;34m.\u001b[0m\u001b[0mlistdir\u001b[0m\u001b[0;34m(\u001b[0m\u001b[0;34m\"../../apredeus/human/downloaded_matrices\"\u001b[0m\u001b[0;34m)\u001b[0m\u001b[0;34m\u001b[0m\u001b[0m\n",
      "\u001b[0;31mFileNotFoundError\u001b[0m: [Errno 2] No such file or directory: '../../apredeus/mouse/downloaded_matrices'"
     ]
    }
   ],
   "source": [
    "import os\n",
    "\n",
    "mouse_matrices = os.listdir(\"../../apredeus/mouse/downloaded_matrices\")\n",
    "rat_matrices = os.listdir(\"../../apredeus/rat/downloaded_matrices\")\n",
    "human_matrices = os.listdir(\"../../apredeus/human/downloaded_matrices\")\n",
    "mouse = set(mouse_matrices)\n",
    "rat = set(rat_matrices)\n",
    "human = set(human_matrices)\n",
    "\n",
    "apredeus_set = mouse | rat | human\n",
    "\n",
    "print(\"Duplicates mouse and rat\")\n",
    "print(len(mouse.intersection(rat)))\n",
    "\n",
    "print(\"Duplicates mouse and human\")\n",
    "print(len(mouse.intersection(human)))\n",
    "\n",
    "print(\"Duplicates human and rat\")\n",
    "print(len(human.intersection(rat)))\n",
    "\n",
    "print(\"Length apredeus sets: \", len(mouse), \" \", len(rat), \" \", len(human))\n",
    "\n",
    "print(\"Length apredeus_set: \", len(apredeus_set))\n"
   ]
  }
 ],
 "metadata": {
  "kernelspec": {
   "display_name": "Python 3",
   "language": "python",
   "name": "python3"
  },
  "language_info": {
   "codemirror_mode": {
    "name": "ipython",
    "version": 3
   },
   "file_extension": ".py",
   "mimetype": "text/x-python",
   "name": "python",
   "nbconvert_exporter": "python",
   "pygments_lexer": "ipython3",
   "version": "3.5.2"
  }
 },
 "nbformat": 4,
 "nbformat_minor": 2
}
